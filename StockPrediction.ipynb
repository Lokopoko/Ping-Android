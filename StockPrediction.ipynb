{
  "nbformat": 4,
  "nbformat_minor": 0,
  "metadata": {
    "colab": {
      "name": "StockPrediction.ipynb",
      "provenance": [],
      "collapsed_sections": [],
      "authorship_tag": "ABX9TyPjYjTM6cZBmont8wDnGPRR",
      "include_colab_link": true
    },
    "kernelspec": {
      "name": "python3",
      "display_name": "Python 3"
    }
  },
  "cells": [
    {
      "cell_type": "markdown",
      "metadata": {
        "id": "view-in-github",
        "colab_type": "text"
      },
      "source": [
        "<a href=\"https://colab.research.google.com/github/Lokopoko/Ping-Android/blob/master/StockPrediction.ipynb\" target=\"_parent\"><img src=\"https://colab.research.google.com/assets/colab-badge.svg\" alt=\"Open In Colab\"/></a>"
      ]
    },
    {
      "cell_type": "code",
      "metadata": {
        "id": "F0HIEoiLDntZ"
      },
      "source": [
        "import math\r\n",
        "import pandas_datareader as web\r\n",
        "import numpy as np\r\n",
        "import pandas as pd\r\n",
        "from sklearn.preprocessing import MinMaxScaler\r\n",
        "from keras.models import Sequential\r\n",
        "from keras.layers import Dense, LSTM\r\n",
        "import matplotlib.pyplot as plt\r\n",
        "plt.style.use('fivethirtyeight')"
      ],
      "execution_count": 1,
      "outputs": []
    },
    {
      "cell_type": "code",
      "metadata": {
        "colab": {
          "base_uri": "https://localhost:8080/",
          "height": 431
        },
        "id": "6zNso7TMD5Wk",
        "outputId": "cb2b9d1d-76e2-4bd9-bd71-815f1a810a73"
      },
      "source": [
        "df = web.DataReader('ICICIBANK.NS', data_source='yahoo', start='2010-01-01', end='2021-01-15')\r\n",
        "df"
      ],
      "execution_count": 26,
      "outputs": [
        {
          "output_type": "execute_result",
          "data": {
            "text/html": [
              "<div>\n",
              "<style scoped>\n",
              "    .dataframe tbody tr th:only-of-type {\n",
              "        vertical-align: middle;\n",
              "    }\n",
              "\n",
              "    .dataframe tbody tr th {\n",
              "        vertical-align: top;\n",
              "    }\n",
              "\n",
              "    .dataframe thead th {\n",
              "        text-align: right;\n",
              "    }\n",
              "</style>\n",
              "<table border=\"1\" class=\"dataframe\">\n",
              "  <thead>\n",
              "    <tr style=\"text-align: right;\">\n",
              "      <th></th>\n",
              "      <th>High</th>\n",
              "      <th>Low</th>\n",
              "      <th>Open</th>\n",
              "      <th>Close</th>\n",
              "      <th>Volume</th>\n",
              "      <th>Adj Close</th>\n",
              "    </tr>\n",
              "    <tr>\n",
              "      <th>Date</th>\n",
              "      <th></th>\n",
              "      <th></th>\n",
              "      <th></th>\n",
              "      <th></th>\n",
              "      <th></th>\n",
              "      <th></th>\n",
              "    </tr>\n",
              "  </thead>\n",
              "  <tbody>\n",
              "    <tr>\n",
              "      <th>2010-01-04</th>\n",
              "      <td>160.909088</td>\n",
              "      <td>159.090912</td>\n",
              "      <td>159.454544</td>\n",
              "      <td>159.945450</td>\n",
              "      <td>9162186.0</td>\n",
              "      <td>136.021439</td>\n",
              "    </tr>\n",
              "    <tr>\n",
              "      <th>2010-01-05</th>\n",
              "      <td>163.590912</td>\n",
              "      <td>160.272720</td>\n",
              "      <td>161.454544</td>\n",
              "      <td>161.463638</td>\n",
              "      <td>14659997.0</td>\n",
              "      <td>137.312576</td>\n",
              "    </tr>\n",
              "    <tr>\n",
              "      <th>2010-01-06</th>\n",
              "      <td>164.972733</td>\n",
              "      <td>161.836365</td>\n",
              "      <td>162.727264</td>\n",
              "      <td>162.699997</td>\n",
              "      <td>20410054.0</td>\n",
              "      <td>138.363998</td>\n",
              "    </tr>\n",
              "    <tr>\n",
              "      <th>2010-01-07</th>\n",
              "      <td>163.045456</td>\n",
              "      <td>159.363632</td>\n",
              "      <td>163.045456</td>\n",
              "      <td>161.163635</td>\n",
              "      <td>10852286.0</td>\n",
              "      <td>137.057449</td>\n",
              "    </tr>\n",
              "    <tr>\n",
              "      <th>2010-01-08</th>\n",
              "      <td>161.818176</td>\n",
              "      <td>158.363632</td>\n",
              "      <td>161.654541</td>\n",
              "      <td>158.899994</td>\n",
              "      <td>20580934.0</td>\n",
              "      <td>135.132385</td>\n",
              "    </tr>\n",
              "    <tr>\n",
              "      <th>...</th>\n",
              "      <td>...</td>\n",
              "      <td>...</td>\n",
              "      <td>...</td>\n",
              "      <td>...</td>\n",
              "      <td>...</td>\n",
              "      <td>...</td>\n",
              "    </tr>\n",
              "    <tr>\n",
              "      <th>2021-01-11</th>\n",
              "      <td>546.000000</td>\n",
              "      <td>535.000000</td>\n",
              "      <td>545.150024</td>\n",
              "      <td>544.700012</td>\n",
              "      <td>19394393.0</td>\n",
              "      <td>544.700012</td>\n",
              "    </tr>\n",
              "    <tr>\n",
              "      <th>2021-01-12</th>\n",
              "      <td>550.650024</td>\n",
              "      <td>537.099976</td>\n",
              "      <td>541.000000</td>\n",
              "      <td>548.000000</td>\n",
              "      <td>16388310.0</td>\n",
              "      <td>548.000000</td>\n",
              "    </tr>\n",
              "    <tr>\n",
              "      <th>2021-01-13</th>\n",
              "      <td>561.000000</td>\n",
              "      <td>548.250000</td>\n",
              "      <td>551.500000</td>\n",
              "      <td>556.500000</td>\n",
              "      <td>21920297.0</td>\n",
              "      <td>556.500000</td>\n",
              "    </tr>\n",
              "    <tr>\n",
              "      <th>2021-01-14</th>\n",
              "      <td>558.450012</td>\n",
              "      <td>550.599976</td>\n",
              "      <td>554.049988</td>\n",
              "      <td>553.299988</td>\n",
              "      <td>13330898.0</td>\n",
              "      <td>553.299988</td>\n",
              "    </tr>\n",
              "    <tr>\n",
              "      <th>2021-01-15</th>\n",
              "      <td>551.000000</td>\n",
              "      <td>541.500000</td>\n",
              "      <td>550.000000</td>\n",
              "      <td>543.000000</td>\n",
              "      <td>15708956.0</td>\n",
              "      <td>543.000000</td>\n",
              "    </tr>\n",
              "  </tbody>\n",
              "</table>\n",
              "<p>2722 rows × 6 columns</p>\n",
              "</div>"
            ],
            "text/plain": [
              "                  High         Low  ...      Volume   Adj Close\n",
              "Date                                ...                        \n",
              "2010-01-04  160.909088  159.090912  ...   9162186.0  136.021439\n",
              "2010-01-05  163.590912  160.272720  ...  14659997.0  137.312576\n",
              "2010-01-06  164.972733  161.836365  ...  20410054.0  138.363998\n",
              "2010-01-07  163.045456  159.363632  ...  10852286.0  137.057449\n",
              "2010-01-08  161.818176  158.363632  ...  20580934.0  135.132385\n",
              "...                ...         ...  ...         ...         ...\n",
              "2021-01-11  546.000000  535.000000  ...  19394393.0  544.700012\n",
              "2021-01-12  550.650024  537.099976  ...  16388310.0  548.000000\n",
              "2021-01-13  561.000000  548.250000  ...  21920297.0  556.500000\n",
              "2021-01-14  558.450012  550.599976  ...  13330898.0  553.299988\n",
              "2021-01-15  551.000000  541.500000  ...  15708956.0  543.000000\n",
              "\n",
              "[2722 rows x 6 columns]"
            ]
          },
          "metadata": {
            "tags": []
          },
          "execution_count": 26
        }
      ]
    },
    {
      "cell_type": "code",
      "metadata": {
        "colab": {
          "base_uri": "https://localhost:8080/"
        },
        "id": "bLkJIYRHD-VZ",
        "outputId": "47c99c36-9a20-44ef-a6e2-930c428b33d3"
      },
      "source": [
        "df.shape"
      ],
      "execution_count": 3,
      "outputs": [
        {
          "output_type": "execute_result",
          "data": {
            "text/plain": [
              "(2722, 6)"
            ]
          },
          "metadata": {
            "tags": []
          },
          "execution_count": 3
        }
      ]
    },
    {
      "cell_type": "code",
      "metadata": {
        "colab": {
          "base_uri": "https://localhost:8080/",
          "height": 475
        },
        "id": "OvG4RMR8Ebyz",
        "outputId": "917b8772-a5a2-4a51-a14b-df0b4129e3d7"
      },
      "source": [
        "plt.figure(figsize=(16,8))\r\n",
        "plt.title('Close Price History')\r\n",
        "plt.plot(df['Close'])\r\n",
        "plt.xlabel('Date', fontsize=18)\r\n",
        "plt.ylabel('Close Price Rupees', fontsize=18)\r\n",
        "plt.show()"
      ],
      "execution_count": 27,
      "outputs": [
        {
          "output_type": "display_data",
          "data": {
            "image/png": "[encoded data removed]",
            "text/plain": [
              "<Figure size 1152x576 with 1 Axes>"
            ]
          },
          "metadata": {
            "tags": [],
            "needs_background": "light"
          }
        }
      ]
    },
    {
      "cell_type": "code",
      "metadata": {
        "colab": {
          "base_uri": "https://localhost:8080/"
        },
        "id": "wXiKhLXxF-zx",
        "outputId": "d3659ca3-c279-4a26-af84-f2bd6d3d8d31"
      },
      "source": [
        "data = df.filter(['Close'])\r\n",
        "\r\n",
        "dataset = data.values\r\n",
        "training_data_len = math.ceil(len(dataset) * .8)\r\n",
        "training_data_len"
      ],
      "execution_count": 28,
      "outputs": [
        {
          "output_type": "execute_result",
          "data": {
            "text/plain": [
              "2178"
            ]
          },
          "metadata": {
            "tags": []
          },
          "execution_count": 28
        }
      ]
    },
    {
      "cell_type": "code",
      "metadata": {
        "colab": {
          "base_uri": "https://localhost:8080/"
        },
        "id": "Lzxe1W0xHHB3",
        "outputId": "f288f7c9-dfe2-47ed-d087-9a585caee93e"
      },
      "source": [
        "scaler = MinMaxScaler(feature_range=(0,1))\r\n",
        "scaled_data = scaler.fit_transform(dataset)\r\n",
        "scaled_data"
      ],
      "execution_count": 29,
      "outputs": [
        {
          "output_type": "execute_result",
          "data": {
            "text/plain": [
              "array([[0.09400376],\n",
              "       [0.09747232],\n",
              "       [0.10029699],\n",
              "       ...,\n",
              "       [1.        ],\n",
              "       [0.99268903],\n",
              "       [0.96915696]])"
            ]
          },
          "metadata": {
            "tags": []
          },
          "execution_count": 29
        }
      ]
    },
    {
      "cell_type": "code",
      "metadata": {
        "colab": {
          "base_uri": "https://localhost:8080/"
        },
        "id": "mL8hdkMjHwoq",
        "outputId": "e72cc4a7-7d34-4c0e-e714-3f97b0740a22"
      },
      "source": [
        "train_data = scaled_data[0:training_data_len, :]\r\n",
        "x_train = []\r\n",
        "y_train = []\r\n",
        "\r\n",
        "for i in range(60, len(train_data)):\r\n",
        "  x_train.append(train_data[i-60:i, 0])\r\n",
        "  y_train.append(train_data[i, 0])\r\n",
        "  if i<=60:\r\n",
        "    print(x_train)\r\n",
        "    print(y_train)\r\n",
        "    print()"
      ],
      "execution_count": 30,
      "outputs": [
        {
          "output_type": "stream",
          "text": [
            "[array([0.09400376, 0.09747232, 0.10029699, 0.09678691, 0.09161524,\n",
            "       0.0897252 , 0.07865493, 0.07778263, 0.07556026, 0.07853033,\n",
            "       0.08721209, 0.08810516, 0.09327684, 0.08278812, 0.07780337,\n",
            "       0.07369099, 0.0556213 , 0.05593286, 0.07350403, 0.07576796,\n",
            "       0.06878932, 0.07728415, 0.07286018, 0.06012834, 0.0631192 ,\n",
            "       0.06604772, 0.06081375, 0.07171784, 0.06810391, 0.07437637,\n",
            "       0.07790722, 0.07753337, 0.07483333, 0.07402329, 0.08073193,\n",
            "       0.0779903 , 0.08233119, 0.09086754, 0.1012524 , 0.10590482,\n",
            "       0.10177166, 0.10316322, 0.1123019 , 0.11288346, 0.1098303 ,\n",
            "       0.1152512 , 0.1176605 , 0.1123019 , 0.11510583, 0.12260369,\n",
            "       0.12887614, 0.12592684, 0.11707894, 0.11302883, 0.11649739,\n",
            "       0.12216751, 0.12428603, 0.12727688, 0.12424451, 0.1243068 ])]\n",
            "[0.13789019507579314]\n",
            "\n"
          ],
          "name": "stdout"
        }
      ]
    },
    {
      "cell_type": "code",
      "metadata": {
        "id": "i6QCARM8Jh0a"
      },
      "source": [
        "x_train, y_train = np.array(x_train), np.array(y_train)"
      ],
      "execution_count": 31,
      "outputs": []
    },
    {
      "cell_type": "code",
      "metadata": {
        "colab": {
          "base_uri": "https://localhost:8080/"
        },
        "id": "Ic_x-zo1J47F",
        "outputId": "d0be9425-5b13-41c3-a8f3-14daf8d786b0"
      },
      "source": [
        "x_train = np.reshape(x_train, (x_train.shape[0], x_train.shape[1], 1))\r\n",
        "x_train.shape"
      ],
      "execution_count": 32,
      "outputs": [
        {
          "output_type": "execute_result",
          "data": {
            "text/plain": [
              "(2118, 60, 1)"
            ]
          },
          "metadata": {
            "tags": []
          },
          "execution_count": 32
        }
      ]
    },
    {
      "cell_type": "code",
      "metadata": {
        "id": "wMC3tCPaKwLp"
      },
      "source": [
        "model = Sequential()\r\n",
        "model.add(LSTM(50, return_sequences=True, input_shape= (x_train.shape[1], 1)))\r\n",
        "model.add(LSTM(50, return_sequences=False))\r\n",
        "model.add(Dense(25))\r\n",
        "model.add(Dense(1))"
      ],
      "execution_count": 33,
      "outputs": []
    },
    {
      "cell_type": "code",
      "metadata": {
        "id": "MxJMLEyULwW0"
      },
      "source": [
        "model.compile(optimizer='adam', loss='mean_squared_error')"
      ],
      "execution_count": 34,
      "outputs": []
    },
    {
      "cell_type": "code",
      "metadata": {
        "colab": {
          "base_uri": "https://localhost:8080/"
        },
        "id": "aHpONc1sMEqT",
        "outputId": "0883b19e-a259-4d22-e648-e01b9f151598"
      },
      "source": [
        "model.fit(x_train, y_train, batch_size=1, epochs=1)"
      ],
      "execution_count": 35,
      "outputs": [
        {
          "output_type": "stream",
          "text": [
            "2118/2118 [==============================] - 51s 23ms/step - loss: 0.0015\n"
          ],
          "name": "stdout"
        },
        {
          "output_type": "execute_result",
          "data": {
            "text/plain": [
              "<tensorflow.python.keras.callbacks.History at 0x7f3c5dead240>"
            ]
          },
          "metadata": {
            "tags": []
          },
          "execution_count": 35
        }
      ]
    },
    {
      "cell_type": "code",
      "metadata": {
        "id": "_u0Tg6T_Mmo5"
      },
      "source": [
        "test_data = scaled_data[training_data_len - 60: , :]\r\n",
        "x_test = []\r\n",
        "y_test = dataset[training_data_len:, :]\r\n",
        "for i in range(60, len(test_data)):\r\n",
        "  x_test.append(test_data[i-60:i, 0])\r\n",
        "  "
      ],
      "execution_count": 36,
      "outputs": []
    },
    {
      "cell_type": "code",
      "metadata": {
        "id": "EZPGcVn1Nk4y"
      },
      "source": [
        "x_test = np.array(x_test)"
      ],
      "execution_count": 37,
      "outputs": []
    },
    {
      "cell_type": "code",
      "metadata": {
        "id": "ha6Ni6qvNuMq"
      },
      "source": [
        "x_test = np.reshape(x_test, (x_test.shape[0], x_test.shape[1], 1))"
      ],
      "execution_count": 38,
      "outputs": []
    },
    {
      "cell_type": "code",
      "metadata": {
        "id": "z7PBlv6LOD-w"
      },
      "source": [
        "predictions = model.predict(x_test)\r\n",
        "predictions = scaler.inverse_transform(predictions)\r\n"
      ],
      "execution_count": 39,
      "outputs": []
    },
    {
      "cell_type": "code",
      "metadata": {
        "colab": {
          "base_uri": "https://localhost:8080/"
        },
        "id": "TEKg1mmkOf0d",
        "outputId": "007d06bc-61cd-4517-aefe-4208a6810d5f"
      },
      "source": [
        "rmse = np.sqrt(np.mean(predictions - y_test)**2)\r\n",
        "rmse"
      ],
      "execution_count": 40,
      "outputs": [
        {
          "output_type": "execute_result",
          "data": {
            "text/plain": [
              "9.712007690878476"
            ]
          },
          "metadata": {
            "tags": []
          },
          "execution_count": 40
        }
      ]
    },
    {
      "cell_type": "code",
      "metadata": {
        "colab": {
          "base_uri": "https://localhost:8080/",
          "height": 613
        },
        "id": "EfA6D9w2PEXd",
        "outputId": "a86a40ba-679f-42ad-c52f-fac85b6499c6"
      },
      "source": [
        "train = data[:training_data_len]\r\n",
        "valid = data[training_data_len:]\r\n",
        "valid['Predictions'] = predictions\r\n",
        "plt.figure(figsize=(16,8))\r\n",
        "plt.title('Model')\r\n",
        "plt.xlabel('Date', fontsize=18)\r\n",
        "plt.ylabel('Close Price Rupees', fontsize=18)\r\n",
        "plt.plot(train['Close'])\r\n",
        "plt.plot(valid[['Close', 'Predictions']])\r\n",
        "plt.legend(['Train', 'Val', 'Predictions'], loc='lower right')\r\n",
        "plt.show"
      ],
      "execution_count": 41,
      "outputs": [
        {
          "output_type": "stream",
          "text": [
            "/usr/local/lib/python3.6/dist-packages/ipykernel_launcher.py:3: SettingWithCopyWarning: \n",
            "A value is trying to be set on a copy of a slice from a DataFrame.\n",
            "Try using .loc[row_indexer,col_indexer] = value instead\n",
            "\n",
            "See the caveats in the documentation: https://pandas.pydata.org/pandas-docs/stable/user_guide/indexing.html#returning-a-view-versus-a-copy\n",
            "  This is separate from the ipykernel package so we can avoid doing imports until\n"
          ],
          "name": "stderr"
        },
        {
          "output_type": "execute_result",
          "data": {
            "text/plain": [
              "<function matplotlib.pyplot.show>"
            ]
          },
          "metadata": {
            "tags": []
          },
          "execution_count": 41
        },
        {
          "output_type": "display_data",
          "data": {
            "image/png": "[encoded data removed]",
            "text/plain": [
              "<Figure size 1152x576 with 1 Axes>"
            ]
          },
          "metadata": {
            "tags": [],
            "needs_background": "light"
          }
        }
      ]
    },
    {
      "cell_type": "code",
      "metadata": {
        "colab": {
          "base_uri": "https://localhost:8080/",
          "height": 431
        },
        "id": "Cp0aNmIvRp1K",
        "outputId": "42900d35-0423-4a52-f779-d3e50b5029ee"
      },
      "source": [
        "valid"
      ],
      "execution_count": 42,
      "outputs": [
        {
          "output_type": "execute_result",
          "data": {
            "text/html": [
              "<div>\n",
              "<style scoped>\n",
              "    .dataframe tbody tr th:only-of-type {\n",
              "        vertical-align: middle;\n",
              "    }\n",
              "\n",
              "    .dataframe tbody tr th {\n",
              "        vertical-align: top;\n",
              "    }\n",
              "\n",
              "    .dataframe thead th {\n",
              "        text-align: right;\n",
              "    }\n",
              "</style>\n",
              "<table border=\"1\" class=\"dataframe\">\n",
              "  <thead>\n",
              "    <tr style=\"text-align: right;\">\n",
              "      <th></th>\n",
              "      <th>Close</th>\n",
              "      <th>Predictions</th>\n",
              "    </tr>\n",
              "    <tr>\n",
              "      <th>Date</th>\n",
              "      <th></th>\n",
              "      <th></th>\n",
              "    </tr>\n",
              "  </thead>\n",
              "  <tbody>\n",
              "    <tr>\n",
              "      <th>2018-10-31</th>\n",
              "      <td>355.000000</td>\n",
              "      <td>334.129608</td>\n",
              "    </tr>\n",
              "    <tr>\n",
              "      <th>2018-11-01</th>\n",
              "      <td>353.700012</td>\n",
              "      <td>341.776154</td>\n",
              "    </tr>\n",
              "    <tr>\n",
              "      <th>2018-11-02</th>\n",
              "      <td>354.450012</td>\n",
              "      <td>347.162903</td>\n",
              "    </tr>\n",
              "    <tr>\n",
              "      <th>2018-11-05</th>\n",
              "      <td>349.649994</td>\n",
              "      <td>350.295563</td>\n",
              "    </tr>\n",
              "    <tr>\n",
              "      <th>2018-11-06</th>\n",
              "      <td>353.100006</td>\n",
              "      <td>350.316925</td>\n",
              "    </tr>\n",
              "    <tr>\n",
              "      <th>...</th>\n",
              "      <td>...</td>\n",
              "      <td>...</td>\n",
              "    </tr>\n",
              "    <tr>\n",
              "      <th>2021-01-11</th>\n",
              "      <td>544.700012</td>\n",
              "      <td>515.630676</td>\n",
              "    </tr>\n",
              "    <tr>\n",
              "      <th>2021-01-12</th>\n",
              "      <td>548.000000</td>\n",
              "      <td>516.359680</td>\n",
              "    </tr>\n",
              "    <tr>\n",
              "      <th>2021-01-13</th>\n",
              "      <td>556.500000</td>\n",
              "      <td>517.778625</td>\n",
              "    </tr>\n",
              "    <tr>\n",
              "      <th>2021-01-14</th>\n",
              "      <td>553.299988</td>\n",
              "      <td>521.410767</td>\n",
              "    </tr>\n",
              "    <tr>\n",
              "      <th>2021-01-15</th>\n",
              "      <td>543.000000</td>\n",
              "      <td>523.695007</td>\n",
              "    </tr>\n",
              "  </tbody>\n",
              "</table>\n",
              "<p>544 rows × 2 columns</p>\n",
              "</div>"
            ],
            "text/plain": [
              "                 Close  Predictions\n",
              "Date                               \n",
              "2018-10-31  355.000000   334.129608\n",
              "2018-11-01  353.700012   341.776154\n",
              "2018-11-02  354.450012   347.162903\n",
              "2018-11-05  349.649994   350.295563\n",
              "2018-11-06  353.100006   350.316925\n",
              "...                ...          ...\n",
              "2021-01-11  544.700012   515.630676\n",
              "2021-01-12  548.000000   516.359680\n",
              "2021-01-13  556.500000   517.778625\n",
              "2021-01-14  553.299988   521.410767\n",
              "2021-01-15  543.000000   523.695007\n",
              "\n",
              "[544 rows x 2 columns]"
            ]
          },
          "metadata": {
            "tags": []
          },
          "execution_count": 42
        }
      ]
    },
    {
      "cell_type": "code",
      "metadata": {
        "colab": {
          "base_uri": "https://localhost:8080/"
        },
        "id": "q0lQt0VmT9u2",
        "outputId": "13113af8-7865-4e3d-e3da-092af22884cc"
      },
      "source": [
        "mahindra_quote = web.DataReader('ICICIBANK.NS', data_source='yahoo', start='2010-01-01', end='2021-01-15')\r\n",
        "new_df = mahindra_quote.filter(['Close'])\r\n",
        "last_60_days = new_df[-60:].values\r\n",
        "last_60_days_scaled = scaler.transform(last_60_days)\r\n",
        "X_test = []\r\n",
        "X_test.append(last_60_days_scaled)\r\n",
        "X_test = np.array(X_test)\r\n",
        "X_test = np.reshape(X_test, (X_test.shape[0], X_test.shape[1], 1))\r\n",
        "pred_price = model.predict(X_test)\r\n",
        "pred_price = scaler.inverse_transform(pred_price)\r\n",
        "print(pred_price)"
      ],
      "execution_count": 43,
      "outputs": [
        {
          "output_type": "stream",
          "text": [
            "[[521.8467]]\n"
          ],
          "name": "stdout"
        }
      ]
    }
  ]
}